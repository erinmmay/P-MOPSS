{
 "cells": [
  {
   "cell_type": "code",
   "execution_count": 1,
   "metadata": {},
   "outputs": [
    {
     "name": "stdout",
     "output_type": "stream",
     "text": [
      "2048 4096\n"
     ]
    }
   ],
   "source": [
    "import numpy as np\n",
    "#import os\n",
    "\n",
    "import matplotlib\n",
    "%matplotlib inline\n",
    "import matplotlib.pyplot as plt\n",
    "\n",
    "from astropy.io import fits\n",
    "\n",
    "from setup import *\n",
    "from FullFrame import FullFrame\n",
    "\n",
    "from scipy.interpolate import interp1d\n",
    "\n",
    "##--------------------------------------------------------------------------##\n",
    "##             NECESSARY USER INPUTS BELOW....                              ##\n",
    "##--------------------------------------------------------------------------##\n",
    "##################\n",
    "###   Hats8b   ###\n",
    "##################\n",
    "obs_date='ut20170723'                           #observation date\n",
    "#obs_date='ut20170828'#\n",
    "obj_name='Hats8'                                #object name  \n",
    "\n",
    "midtime=['2017-07-24T05:28:01.056']                 #time of midtransit, Hats-8b, Transit 1\n",
    "#midtime=['2017-08-29T01:36:04.608']                 #time of midtransit, Hats-8b Transit 2\n",
    "\n",
    "path='/Volumes/ermay_ext/Magellan/'+obs_date+'/'\n",
    "data_path=path+obj_name+'_Spec/'      #path to where your data is saved\n",
    "flat_path=path+obj_name+'_Flats/'     #path to where your SLIT flats are saved\n",
    "DARKS=path+obj_name+'_Darks/'     #path to where your darks are saved\n",
    "FLATS=path+'Full_Flats/'             #path to where the full field flats are saved \n",
    "WAVE=path+obj_name+'_Arcs/'\n",
    "\n",
    "#SAVEPATH='SaveData/'+obj_name+'/'\n",
    "SAVEPATH=path+'SaveData_'+obj_name+'/'\n",
    "\n",
    "wavelength_path=path+'WaveSolution/'\n",
    "\n",
    "\n",
    "\n",
    "extray=400 #number of extra pixels to extract per side in y direction\n",
    "extrax=80  #number on the side to find wavelength strip, only for nights with a single mask\n",
    "\n",
    "\n",
    "binn=1    #binning\n",
    "#### CHECK BINNING IN SETUP.PY ####\n",
    "#### if 1x1 binning, xpixels,ypixels should be 2048,4096\n",
    "#### if 2x2 binning, xpixels,ypixels should be 1024,2048\n",
    "print xpixels/binn, ypixels/binn\n",
    "\n",
    "\n",
    "\n",
    "from matplotlib.font_manager import FontProperties\n",
    "font0=FontProperties()\n",
    "font=font0.copy()\n",
    "font.set_family('serif')\n",
    "\n",
    "fontb=font.copy()\n",
    "fontb.set_weight('bold')\n",
    "\n",
    "import os"
   ]
  },
  {
   "cell_type": "code",
   "execution_count": null,
   "metadata": {},
   "outputs": [],
   "source": []
  }
 ],
 "metadata": {
  "kernelspec": {
   "display_name": "Python 2",
   "language": "python",
   "name": "python2"
  },
  "language_info": {
   "codemirror_mode": {
    "name": "ipython",
    "version": 2
   },
   "file_extension": ".py",
   "mimetype": "text/x-python",
   "name": "python",
   "nbconvert_exporter": "python",
   "pygments_lexer": "ipython2",
   "version": "2.7.14"
  }
 },
 "nbformat": 4,
 "nbformat_minor": 2
}
