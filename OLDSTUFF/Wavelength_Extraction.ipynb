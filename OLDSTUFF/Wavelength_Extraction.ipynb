{
 "cells": [
  {
   "cell_type": "code",
   "execution_count": null,
   "metadata": {
    "collapsed": true
   },
   "outputs": [],
   "source": [
    "import numpy as np\n",
    "#import os\n",
    "\n",
    "import matplotlib\n",
    "%matplotlib inline\n",
    "import matplotlib.pyplot as plt\n",
    "\n",
    "from astropy.io import fits\n",
    "\n",
    "from setup import *\n",
    "from FullFrame import FullFrame\n",
    "\n",
    "##--------------------------------------------------------------------------##\n",
    "##             NECESSARY USER INPUTS BELOW....                              ##\n",
    "##--------------------------------------------------------------------------##\n",
    "\n",
    "##################\n",
    "###   WASP4b   ###\n",
    "##################\n",
    "obs_date='ut20150819'                           #observation date\n",
    "obj_name='Wasp4'                                #object name   \n",
    "midtime=['2015-08-19T07:43:00.00']                 #time of midtransit, WAsp-4b\n",
    "\n",
    "###################\n",
    "###   WASP52b   ###\n",
    "###################\n",
    "#obs_date='ut20160811'\n",
    "#obs_date='ut20160922'\n",
    "#obj_name='Wasp52'\n",
    "\n",
    "#midtime=['2016-08-11T04:51:00']               #time of midtransit, Wasp-52b, Transit1\n",
    "#midtime=['2016-09-22T04:44:00']               #time of midtransit, Wasp-52b, Transit2\n",
    "\n",
    "##################\n",
    "###   Hats8b   ###\n",
    "##################\n",
    "#obs_date='ut20170723'                           #observation date\n",
    "#obs_date='ut20170828'\n",
    "#obj_name='Hats8'                                #object name  \n",
    "\n",
    "#midtime=['2017-07-24T05:28:01.056']                 #time of midtransit, Hats-8b, Transit 1\n",
    "#midtime=['2017-08-29T01:36:04.608']                 #time of midtransit, Hats-8b Transit 2\n",
    "\n",
    "\n",
    "path='/Volumes/ermay_ext/Magellan/'+obs_date+'/'\n",
    "data_path=path+obj_name+'_Spec/'      #path to where your data is saved\n",
    "flat_path=path+obj_name+'_Flats/'     #path to where your SLIT flats are saved\n",
    "DARKS=path+obj_name+'_Darks/'     #path to where your darks are saved\n",
    "FLATS=path+'Full_Flats/'             #path to where the full field flats are saved \n",
    "WAVE=path+obj_name+'_Arcs/'\n",
    "\n",
    "#SAVEPATH='SaveData/'+obj_name+'/'\n",
    "SAVEPATH=path+'SaveData_'+obj_name+'/'\n",
    "\n",
    "wavelength_path=path+'WaveSolution/'\n",
    "\n",
    "\n",
    "\n",
    "extray=400 #number of extra pixels to extract per side in y direction\n",
    "extrax=80  #number on the side to find wavelength strip, only for nights with a single mask\n",
    "\n",
    "\n",
    "binn=1    #binning\n",
    "#### CHECK BINNING IN SETUP.PY ####\n",
    "#### if 1x1 binning, xpixels,ypixels should be 2048,4096\n",
    "#### if 2x2 binning, xpixels,ypixels should be 1024,2048\n",
    "print xpixels/binn, ypixels/binn"
   ]
  },
  {
   "cell_type": "markdown",
   "metadata": {},
   "source": [
    "# --------------------------------------------------------------------------- \n",
    "# Wavelength Calibration #\n",
    "\n",
    "Not working in notebook, will eventually update this code to run this way. \n",
    "\n",
    "Currently: Run via command line. I'll include instructions for this part soon."
   ]
  },
  {
   "cell_type": "code",
   "execution_count": null,
   "metadata": {
    "collapsed": true
   },
   "outputs": [],
   "source": [
    "# First we must extract the wavelength calibration spectrum\n",
    "\n",
    "# THIS CELL IS FOR OBSERVING RUNS WITH A SINGLE MASK FOR DATA/WAVELENGTH CALIBRATION\n",
    "\n",
    "from WaveExtract import DetermineSide\n",
    "\n",
    "#extray=400 #number of extra pixels to extract per side in y direction\n",
    "#extrax=50\n",
    "\n",
    "data=DetermineSide(WAVE,extray,extrax,SAVEPATH)\n",
    "#del data"
   ]
  },
  {
   "cell_type": "code",
   "execution_count": null,
   "metadata": {
    "collapsed": true
   },
   "outputs": [],
   "source": [
    "from WaveExtract import Extract_wave_left, Extract_wave_right\n",
    "\n",
    "#extray=400 #number of extra pixels to extract per side in y direction\n",
    "#extrax=80\n",
    "\n",
    "lr_arr=['left','right','right','right','right','left','left','left','right'] #W52\n",
    "#lr_arr=['left','left','right','left','left','right','left','left','left','right','right','left','right'] #W4\n",
    "\n",
    "#n_obj=13  #W4\n",
    "#n_wave=8  #W4\n",
    "\n",
    "n_obj=9\n",
    "n_wave=12  #W52_1\n",
    "\n",
    "for i in range(0,n_obj):\n",
    "    if lr_arr[i]=='left':\n",
    "        print '------------------------'\n",
    "        print 'EXTRACTING WAVE FOR: ',i\n",
    "        print '------------------------'\n",
    "        run=Extract_wave_left(WAVE,extray,extrax,SAVEPATH,i,n_wave)\n",
    "    elif lr_arr[i]=='right':\n",
    "        print '------------------------'\n",
    "        print 'EXTRACTING WAVE FOR: ',i\n",
    "        print '------------------------'\n",
    "        run=Extract_wave_right(WAVE,extray,extrax,SAVEPATH,i,n_wave)"
   ]
  },
  {
   "cell_type": "code",
   "execution_count": null,
   "metadata": {
    "collapsed": true
   },
   "outputs": [],
   "source": [
    "### For all targets after 2017A\n",
    "\n",
    "from WaveExtract import Extract_wave_center\n",
    "\n",
    "n_obj=8\n",
    "n_wave=5\n",
    "\n",
    "ARCS_ar=['Ar','He','Ne']\n",
    "ARCS_ot=np.empty([2*ypixels+ygap,len(ARCS_ar)])\n",
    "\n",
    "#for a in range(0,len(ARCS_ar)):\n",
    "#    WAVE=path+obj_name+'_Arcs_'+str(ARCS_ar[a])+'/'\n",
    "#    data=DetermineSide(WAVE,extray,extrax,SAVEPATH)\n",
    "\n",
    "for i in range(0,n_obj):\n",
    "    print '------------------------'\n",
    "    print 'EXTRACTING WAVE FOR: ',i\n",
    "    print '------------------------'\n",
    "    for a in range(0,len(ARCS_ar)):\n",
    "        WAVE=path+obj_name+'_Arcs_'+str(ARCS_ar[a])+'/'\n",
    "        print '*****', ARCS_ar[a], '*****'\n",
    "        run=Extract_wave_center(WAVE,extray,extrax,SAVEPATH,i,n_wave)\n",
    "        ARCS_ot[:,a]=run\n",
    "    ARCS_total=np.nansum(ARCS_ot,axis=1)\n",
    "    #for a in range(0,len(ARCS_ar)):\n",
    "    #    plt.plot(ARCS_ot[:,a])\n",
    "    plt.plot(ARCS_total)\n",
    "    plt.show(block=False)\n",
    "    np.savez(SAVEPATH+'wavespec_obj'+str(int(i))+'.npz', spec=np.flip(ARCS_total,0))"
   ]
  }
 ],
 "metadata": {
  "kernelspec": {
   "display_name": "Python 2",
   "language": "python",
   "name": "python2"
  },
  "language_info": {
   "codemirror_mode": {
    "name": "ipython",
    "version": 2
   },
   "file_extension": ".py",
   "mimetype": "text/x-python",
   "name": "python",
   "nbconvert_exporter": "python",
   "pygments_lexer": "ipython2",
   "version": "2.7.13"
  }
 },
 "nbformat": 4,
 "nbformat_minor": 2
}
