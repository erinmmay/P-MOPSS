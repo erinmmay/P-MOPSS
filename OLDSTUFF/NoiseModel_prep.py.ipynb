{
 "cells": [
  {
   "cell_type": "code",
   "execution_count": 1,
   "metadata": {},
   "outputs": [
    {
     "name": "stdout",
     "output_type": "stream",
     "text": [
      "2048 4096\n"
     ]
    }
   ],
   "source": [
    "import numpy as np\n",
    "#import os\n",
    "\n",
    "import matplotlib\n",
    "%matplotlib inline\n",
    "import matplotlib.pyplot as plt\n",
    "\n",
    "from setup import *\n",
    "#from FullFrame import FullFrame\n",
    "from Binning_Model import BinFunc_t\n",
    "\n",
    "\n",
    "##--------------------------------------------------------------------------##\n",
    "##             NECESSARY USER INPUTS BELOW....                              ##\n",
    "##--------------------------------------------------------------------------##\n",
    "\n",
    "##################\n",
    "###   WASP4b   ###\n",
    "##################\n",
    "# obs_date='ut20150819'                           #observation date\n",
    "# obj_name='Wasp4'                                #object name   \n",
    "# midtime=['2015-08-19T07:43:00.00']                 #time of midtransit, WAsp-4b\n",
    "\n",
    "###################\n",
    "###   WASP52b   ###\n",
    "###################\n",
    "#obs_date='ut20160811'\n",
    "#obs_date='ut20160922'\n",
    "#obj_name='Wasp52'\n",
    "\n",
    "#midtime=['2016-08-11T04:51:00']               #time of midtransit, Wasp-52b, Transit1\n",
    "#midtime=['2016-09-22T04:44:00']               #time of midtransit, Wasp-52b, Transit2\n",
    "\n",
    "##################\n",
    "###   Hats8b   ###\n",
    "##################\n",
    "#obs_date='ut20170723'                           #observation date\n",
    "obs_date='ut20170828'\n",
    "obj_name='Hats8'                                #object name  \n",
    "\n",
    "#midtime=['2017-07-24T05:28:01.056']                 #time of midtransit, Hats-8b, Transit 1\n",
    "midtime=['2017-08-29T01:36:04.608']                 #time of midtransit, Hats-8b Transit 2\n",
    "\n",
    "##################\n",
    "### Wasp 67b  ###\n",
    "##################\n",
    "# obs_date='ut20180521'\n",
    "# obj_name='Wasp67'\n",
    "# midtime=['2018-05-22T06:54.00']\n",
    "\n",
    "\n",
    "path='/Volumes/ermay_ext/Magellan/'+obs_date+'/'\n",
    "data_path=path+obj_name+'_Spec/'      #path to where your data is saved\n",
    "flat_path=path+obj_name+'_Flats/'     #path to where your SLIT flats are saved\n",
    "DARKS=path+obj_name+'_Darks/'     #path to where your darks are saved\n",
    "FLATS=path+'Full_Flats/'             #path to where the full field flats are saved \n",
    "WAVE=path+obj_name+'_Arcs/'\n",
    "\n",
    "#SAVEPATH='SaveData/'+obj_name+'/'\n",
    "SAVEPATH=path+'SaveData_'+obj_name+'/'\n",
    "\n",
    "wavelength_path=path+'WaveSolution/'\n",
    "\n",
    "\n",
    "\n",
    "extray=400 #number of extra pixels to extract per side in y direction\n",
    "extrax=80  #number on the side to find wavelength strip, only for nights with a single mask\n",
    "\n",
    "\n",
    "binn=1    #binning\n",
    "#### CHECK BINNING IN SETUP.PY ####\n",
    "#### if 1x1 binning, xpixels,ypixels should be 2048,4096\n",
    "#### if 2x2 binning, xpixels,ypixels should be 1024,2048\n",
    "print xpixels/binn, ypixels/binn"
   ]
  },
  {
   "cell_type": "code",
   "execution_count": 2,
   "metadata": {},
   "outputs": [
    {
     "name": "stdout",
     "output_type": "stream",
     "text": [
      "[4900. 5100. 5300. 5500. 5700. 5900. 6100. 6300. 6500. 6700. 6900. 7100.\n",
      " 7300. 7500. 7700. 7900. 8100. 8300. 8500. 8700. 8900. 9100. 9300.]\n",
      "4800.0 9400.0 200.0 23\n"
     ]
    }
   ],
   "source": [
    "bin_width=200\n",
    "bin_ctr=np.load(SAVEPATH+'LC_bins_'+str(int(bin_width))+'.npz')['bin_ctr']\n",
    "print bin_ctr\n",
    "n_bins=len(bin_ctr)\n",
    "width=bin_ctr[1]-bin_ctr[0]\n",
    "start=bin_ctr[0]-width/2\n",
    "end=bin_ctr[-1]+width/2\n",
    "print start,end,width,n_bins"
   ]
  },
  {
   "cell_type": "code",
   "execution_count": 3,
   "metadata": {},
   "outputs": [
    {
     "name": "stdout",
     "output_type": "stream",
     "text": [
      "(8, 92, 4153)\n",
      "(8, 92)\n",
      "(8, 92, 4153)\n"
     ]
    },
    {
     "ename": "NameError",
     "evalue": "name 'bkgd' is not defined",
     "output_type": "error",
     "traceback": [
      "\u001b[0;31m---------------------------------------------------------------------------\u001b[0m",
      "\u001b[0;31mNameError\u001b[0m                                 Traceback (most recent call last)",
      "\u001b[0;32m<ipython-input-3-ba47d392c76e>\u001b[0m in \u001b[0;36m<module>\u001b[0;34m()\u001b[0m\n\u001b[1;32m     16\u001b[0m \u001b[0;34m\u001b[0m\u001b[0m\n\u001b[1;32m     17\u001b[0m \u001b[0;32mprint\u001b[0m \u001b[0mgaus\u001b[0m\u001b[0;34m.\u001b[0m\u001b[0mshape\u001b[0m\u001b[0;34m\u001b[0m\u001b[0m\n\u001b[0;32m---> 18\u001b[0;31m \u001b[0;32mprint\u001b[0m \u001b[0mbkgd\u001b[0m\u001b[0;34m.\u001b[0m\u001b[0mshape\u001b[0m\u001b[0;34m\u001b[0m\u001b[0m\n\u001b[0m\u001b[1;32m     19\u001b[0m \u001b[0;34m\u001b[0m\u001b[0m\n\u001b[1;32m     20\u001b[0m \u001b[0mn_exp\u001b[0m\u001b[0;34m=\u001b[0m\u001b[0mwave\u001b[0m\u001b[0;34m.\u001b[0m\u001b[0mshape\u001b[0m\u001b[0;34m[\u001b[0m\u001b[0;36m1\u001b[0m\u001b[0;34m]\u001b[0m\u001b[0;34m\u001b[0m\u001b[0m\n",
      "\u001b[0;31mNameError\u001b[0m: name 'bkgd' is not defined"
     ]
    }
   ],
   "source": [
    "ShiftSpec=np.load(SAVEPATH+'ShiftedSpec_All.npz')\n",
    "FlatSpec=np.load(SAVEPATH+'FlattenedSpectra.npz')\n",
    "#BkGndSub=np.load(SAVEPATH+'FlatSpec_Obj0.npz')\n",
    "\n",
    "#spec=ShiftSpec['data']\n",
    "wave=ShiftSpec['wave']\n",
    "print wave.shape\n",
    "#pixs=ShiftSpec['pixels']\n",
    "ysft=ShiftSpec['yshift']\n",
    "print ysft.shape\n",
    "\n",
    "#fwhm=FlatSpec['fwhm_av']\n",
    "gaus=FlatSpec['gaus_params'][:,:,:,1]  #1=x-shift\n",
    "bkgd_c=FlatSpec['gaus_params'][:,:,:,4]  #1=bg counts\n",
    "#phte=FlatSpec['pht_err']\n",
    "\n",
    "print gaus.shape\n",
    "print bkgd.shape\n",
    "\n",
    "n_exp=wave.shape[1]"
   ]
  },
  {
   "cell_type": "code",
   "execution_count": null,
   "metadata": {},
   "outputs": [],
   "source": [
    "plt.plot(bkgd[0,:])\n",
    "plt.show()"
   ]
  },
  {
   "cell_type": "code",
   "execution_count": null,
   "metadata": {},
   "outputs": [],
   "source": [
    "waves0=np.fliplr(wave[:,:,:])\n",
    "ys0=ysft[:,:]\n",
    "xs0=np.fliplr(gaus)\n",
    "bg0=np.fliplr(bkgd)\n",
    "print waves0.shape\n",
    "\n",
    "#white_x=np.empty([n_exp])*np.nan\n",
    "#white_y=np.empty([n_exp])*np.nan\n",
    "#white_bg=np.empty([n_exp])*np.nan\n",
    "\n",
    "\n",
    "# binned_x=np.empty([n_exp,n_bins])*np.nan\n",
    "# binned_y=np.empty([n_exp,n_bins])*np.nan\n",
    "# binned_bg=np.empty([n_exp,n_bins])*np.nan\n",
    "\n",
    "\n",
    "print start,end,width\n",
    "__,white_x=BinFunc_t(xs0,waves0,start,end,end-start,True)\n",
    "#__,white_y=BinFunc(xs0,waves0,start,end,end-width,True)\n",
    "__,white_bg=BinFunc_t(bg0,waves0,start,end,end-start,True)\n",
    "\n",
    "__,binned_x=BinFunc_t(xs0,waves0,start,end,width,True)\n",
    "#__,white_y=BinFunc(xs0,waves0,start,end,end-width,True)\n",
    "__,binned_bg=BinFunc_t(bg0,waves0,start,end,width,True)"
   ]
  },
  {
   "cell_type": "code",
   "execution_count": 14,
   "metadata": {},
   "outputs": [
    {
     "name": "stdout",
     "output_type": "stream",
     "text": [
      "[34.84421412]\n"
     ]
    },
    {
     "data": {
      "image/png": "[encoded data removed]",
      "text/plain": [
       "<matplotlib.figure.Figure at 0x151e906a90>"
      ]
     },
     "metadata": {},
     "output_type": "display_data"
    },
    {
     "data": {
      "image/png": "[encoded data removed]",
      "text/plain": [
       "<matplotlib.figure.Figure at 0x151e906850>"
      ]
     },
     "metadata": {},
     "output_type": "display_data"
    }
   ],
   "source": [
    "\n",
    "print white_x[0,:]\n",
    "\n",
    "plt.plot(waves0[0,:],xs0[0,:],linewidth=2.5)\n",
    "plt.plot(bin_ctr,binned_x[0,:],'.',markersize=10)\n",
    "plt.xlim(bin_ctr[0]-width,bin_ctr[-1]+width)\n",
    "plt.show()\n",
    "\n",
    "plt.clf()\n",
    "\n",
    "plt.plot(waves0[0,:],bg0[0,:],linewidth=2.5)\n",
    "plt.plot(bin_ctr,binned_bg[0,:],'.',markersize=10)\n",
    "plt.xlim(bin_ctr[0]-width,bin_ctr[-1]+width)\n",
    "plt.show()"
   ]
  },
  {
   "cell_type": "code",
   "execution_count": 15,
   "metadata": {},
   "outputs": [],
   "source": [
    "np.savez_compressed(SAVEPATH+'NoiseModel_Inputs_'+str(int(bin_width))+'.npz',\n",
    "                    white_x=white_x[:,0],white_bg=white_bg[:,0],\n",
    "                   binned_x=binned_x,binned_bg=binned_bg, yshift=ys0)\n"
   ]
  },
  {
   "cell_type": "code",
   "execution_count": 18,
   "metadata": {},
   "outputs": [
    {
     "name": "stdout",
     "output_type": "stream",
     "text": [
      "(145,)\n",
      "(145, 18)\n",
      "(145,)\n"
     ]
    }
   ],
   "source": [
    "print white_x[:,0].shape\n",
    "print binned_x.shape\n",
    "print ys0.shape"
   ]
  },
  {
   "cell_type": "code",
   "execution_count": 9,
   "metadata": {},
   "outputs": [
    {
     "name": "stdout",
     "output_type": "stream",
     "text": [
      "(9, 145)\n"
     ]
    },
    {
     "data": {
      "text/plain": [
       "(-2, 4)"
      ]
     },
     "execution_count": 9,
     "metadata": {},
     "output_type": "execute_result"
    },
    {
     "data": {
      "image/png": "[encoded data removed]",
      "text/plain": [
       "<matplotlib.figure.Figure at 0x113b3f790>"
      ]
     },
     "metadata": {},
     "output_type": "display_data"
    }
   ],
   "source": [
    "print ysft.shape\n",
    "plt.plot(ysft[0,:])\n",
    "plt.ylim(-2,4)"
   ]
  },
  {
   "cell_type": "code",
   "execution_count": null,
   "metadata": {},
   "outputs": [],
   "source": []
  }
 ],
 "metadata": {
  "kernelspec": {
   "display_name": "Python 2",
   "language": "python",
   "name": "python2"
  },
  "language_info": {
   "codemirror_mode": {
    "name": "ipython",
    "version": 2
   },
   "file_extension": ".py",
   "mimetype": "text/x-python",
   "name": "python",
   "nbconvert_exporter": "python",
   "pygments_lexer": "ipython2",
   "version": "2.7.14"
  }
 },
 "nbformat": 4,
 "nbformat_minor": 2
}
