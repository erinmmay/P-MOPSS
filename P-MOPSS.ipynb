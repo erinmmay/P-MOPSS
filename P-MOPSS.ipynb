{
 "cells": [
  {
   "cell_type": "markdown",
   "metadata": {},
   "source": [
    "# P-MOPSS: Pipeline for Magellan Optical Planetary Spectra Survey #\n",
    "\n",
    "UNDER CONSTRUCTION. Will allow all reduction to be run from this notebook!\n"
   ]
  },
  {
   "cell_type": "code",
   "execution_count": 1,
   "metadata": {
    "collapsed": false
   },
   "outputs": [],
   "source": [
    "import numpy as np\n",
    "#import os\n",
    "\n",
    "import matplotlib\n",
    "%matplotlib inline\n",
    "import matplotlib.pyplot as plt\n",
    "\n",
    "from astropy.io import fits\n",
    "\n",
    "from astropy.time import Time\n",
    "\n",
    "from datetime import datetime\n",
    "\n",
    "from setup import *\n",
    "from FullFrame import FullFrame\n",
    "\n",
    "##--------------------------------------------------------------------------##\n",
    "##             NECESSARY USER INPUTS BELOW....                              ##\n",
    "##--------------------------------------------------------------------------##\n",
    "obs_date='ut20150819'                           #observation date\n",
    "obj_name='Wasp4'                                #object name                      \n",
    "data_path='/Volumes/ermay_ext/Magellan/'+obs_date+'/'+obj_name+'_Spec/'      #path to where your data is saved\n",
    "flat_path='/Volumes/ermay_ext/Magellan/'+obs_date+'/'+obj_name+'_Flats/'     #path to where your SLIT flats are saved\n",
    "DARKS='/Volumes/ermay_ext/Magellan/'+obs_date+'/'+obj_name+'_Darks/'     #path to where your darks are saved\n",
    "FLATS='/Volumes/ermay_ext/Magellan/'+obs_date+'/Full_Flats/'             #path to where the full field flats are saved \n",
    "\n"
   ]
  },
  {
   "cell_type": "markdown",
   "metadata": {},
   "source": [
    "# --------------------------------------------------------------------------- \n",
    "# The following cell extracts header information.\n",
    "\n",
    "You can add arrays in HeaderData.py following the methods there. Certain values only need to be read out for 1 chip\n"
   ]
  },
  {
   "cell_type": "code",
   "execution_count": null,
   "metadata": {
    "collapsed": false
   },
   "outputs": [],
   "source": [
    "## ------------------------------------------------------------- ##\n",
    "## Run this block to read header and save relevant information.  ##\n",
    "## REQUIRED for observation times and number                     ##\n",
    "## ------------------------------------------------------------- ##\n",
    "from HeaderData import *\n",
    "ReadHeader(data_path)\n",
    "\n",
    "## This cell only needs to be run ONCE. Will save to a .npz file you can read in for the arrays\n",
    "## Keys in .npz file are the names of the arrays:\n",
    "##'------------------------------------------'\n",
    "##'   Observing Times: obs_times[n_exp]'\n",
    "##'   Object Airmass:  airmass[n_exp]'\n",
    "##'   Read Noise:      elc_noise[chip]'\n",
    "##'   CCD Temperature: ccd_temp[chip,n_exp]'\n",
    "##'   Structure Temp:  stc_temp[chip_n_exp]'\n",
    "##'   Ion Pump Press:  ion_pump[chip_n_exp]'\n",
    "##'------------------------------------------'\n",
    "\n",
    "## NOTES:\n",
    "##  This cell can take a few minutes to run. I'm working on speeding up the header reading process"
   ]
  },
  {
   "cell_type": "markdown",
   "metadata": {},
   "source": [
    "# --------------------------------------------------------------------------- \n",
    "# Master Dark and Flat Frames\n",
    "\n",
    "Master Darks and Flats are first created by stitching together two chips in the vertical direction.\n",
    "\n",
    "They are then combined into 'Full Frame' 8-chip Master Dark and Flats"
   ]
  },
  {
   "cell_type": "code",
   "execution_count": null,
   "metadata": {
    "collapsed": false
   },
   "outputs": [],
   "source": [
    "## ------------------------------------------------------------- ##\n",
    "##     make sure your paths are updated. (first cell)            ##\n",
    "## ------------------------------------------------------------- ##\n",
    "\n",
    "print 'Location of Darks is currently set to: ', DARKS\n",
    "print 'Location of Flats is currently set to: ', FLATS\n",
    "print ' '\n",
    "\n",
    "from MasterFrame import MasterFrame\n",
    "\n",
    "dark=MasterFrame(DARKS,'Darks')                #first keyword=path, second keyword=save name\n",
    "dark_full=FullFrame(1,dark)                    #number of frames, matrix of double-chip images\n",
    "del dark                                       #clearing memory\n",
    "\n",
    "\n",
    "flat=MasterFrame(FLATS,'Flats')\n",
    "flat_full=FullFrame(1,flat)\n",
    "flat_full/=np.nanmedian(flat_full)\n",
    "del flat\n",
    "\n",
    "fig,ax=plt.subplots(1,2,figsize=(16.,8.))\n",
    "ax[0].imshow(dark_full[0,:,:],cmap=plt.cm.Greys_r)      #plotting to make sure combined right\n",
    "ax[0].set_title('Full Frame Darks')\n",
    "ax[1].imshow(flat_full[0,:,:],cmap=plt.cm.Greys_r)\n",
    "ax[1].set_title('Full Frame Flats')"
   ]
  },
  {
   "cell_type": "markdown",
   "metadata": {},
   "source": [
    "# --------------------------------------------------------------------------- \n",
    "# Creates Object Masks\n",
    "\n",
    "(these are used to later only extract the parts of the data we want)\n",
    "\n",
    "First: Objects are located using the flat_thres variable\n",
    "\n",
    "Second: Vertical Chips are Stitched\n",
    "\n",
    "Third: Horizontal Chips are Stitched\n",
    "\n",
    "Fourth: Objects are Combined across Vertical Chips. "
   ]
  },
  {
   "cell_type": "code",
   "execution_count": null,
   "metadata": {
    "collapsed": false
   },
   "outputs": [],
   "source": [
    "## ------------------------------------------------------------- ##\n",
    "## Masks are simply matrices of 1s and 0s                        ##\n",
    "## ------------------------------------------------------------- ##\n",
    "\n",
    "## user input needed:\n",
    "flat_root='ift0016c'         #root name of a slit flat image\n",
    "flat_thres=6000.             #flat threshold: number of counts for 'edges' of masks.\n",
    "\n",
    "from FindMasks import FindMasks\n",
    "from FindMasks import CombineMasks\n",
    "#from FullFrame import FullFrame\n",
    "\n",
    "masks=FindMasks(flat_path,flat_root,flat_thres)\n",
    "mask_full=FullFrame(1,masks)\n",
    "del masks\n",
    "\n",
    "print' -->> Combining Masks'\n",
    "mask_edges=CombineMasks(mask_full)\n",
    "print'          (done)'\n",
    "\n",
    "\n",
    "# NOTES:\n",
    "# Some improvements to be made, still. Works fine for now\n",
    "# I need to find a way to ignore 0th order boxes. These can be trimmed later, for now\n",
    "# this will be updated to be dependent on the median level of counts found"
   ]
  },
  {
   "cell_type": "markdown",
   "metadata": {},
   "source": [
    "# --------------------------------------------------------------------------- \n",
    "# Define Objects: Label Target and Remove 0th-order\n"
   ]
  },
  {
   "cell_type": "code",
   "execution_count": null,
   "metadata": {
    "collapsed": false
   },
   "outputs": [],
   "source": [
    "## ------------------------------------------------------------- ##\n",
    "##  This rearranges masks so that the [0] element is the target  ##\n",
    "##  zero-th order masks are also removed.                        ##\n",
    "## ------------------------------------------------------------- ##\n",
    "\n",
    "## using numbers output on combined mask image from cell above,define the following:\n",
    "TAR=7                           #index for target\n",
    "FIR=np.array([11,12,13,14])     #indices for zeroth order masks. These will be deleted\n",
    "\n",
    "\n",
    "################## don't change below  ################\n",
    "mask_edges=np.load('SaveData/CombinedMasks.npz')['mask_edges']\n",
    "masks_fin=np.empty([mask_edges.shape[0]-len(FIR),mask_edges.shape[1]])*0.0\n",
    "\n",
    "masks_fin[0,:]=mask_edges[TAR,:]\n",
    "j=1\n",
    "for i in range(0,mask_edges.shape[0]):\n",
    "    if not i in FIR and i!=7:\n",
    "        masks_fin[j,:]=mask_edges[i,:]\n",
    "        j+=1\n",
    "        \n",
    "np.savez('SaveData/FinalMasks.npz',masks=masks_fin)\n",
    "del masks_fin"
   ]
  },
  {
   "cell_type": "markdown",
   "metadata": {
    "collapsed": false
   },
   "source": [
    "# --------------------------------------------------------------------------- \n",
    "# Extract 2D Spectra for each Object #\n",
    "Dark is subtracted, Flat is divided out."
   ]
  },
  {
   "cell_type": "code",
   "execution_count": null,
   "metadata": {
    "collapsed": false
   },
   "outputs": [
    {
     "name": "stdout",
     "output_type": "stream",
     "text": [
      " -->> Loading Masks\n",
      "          (done)\n",
      " -->> Loading Darks\n",
      "              572.0\n",
      "          (done)\n",
      " -->> Loading Flats\n",
      "              1.0\n",
      "          (done)\n",
      " -->> Loading HeaderData\n",
      "               112\n",
      "          (done)\n"
     ]
    },
    {
     "name": "stderr",
     "output_type": "stream",
     "text": [
      "Extract2d.py:80: RuntimeWarning: invalid value encountered in divide\n",
      "  image_full/=flat_full[0,:,:]\n"
     ]
    },
    {
     "name": "stdout",
     "output_type": "stream",
     "text": [
      "           ( SAVED DATA FOR IMAGE  1 )\n",
      "           ( SAVED DATA FOR IMAGE  2 )\n",
      "           ( SAVED DATA FOR IMAGE  3 )\n",
      "           ( SAVED DATA FOR IMAGE  4 )\n",
      "           ( SAVED DATA FOR IMAGE  5 )\n",
      "           ( SAVED DATA FOR IMAGE  6 )\n",
      "           ( SAVED DATA FOR IMAGE  7 )\n",
      "           ( SAVED DATA FOR IMAGE  8 )\n",
      "           ( SAVED DATA FOR IMAGE  9 )\n",
      "           ( SAVED DATA FOR IMAGE  10 )\n",
      "           ( SAVED DATA FOR IMAGE  11 )\n",
      "           ( SAVED DATA FOR IMAGE  12 )\n",
      "           ( SAVED DATA FOR IMAGE  13 )\n",
      "           ( SAVED DATA FOR IMAGE  14 )\n",
      "           ( SAVED DATA FOR IMAGE  15 )\n",
      "           ( SAVED DATA FOR IMAGE  16 )\n",
      "           ( SAVED DATA FOR IMAGE  17 )\n",
      "           ( SAVED DATA FOR IMAGE  18 )\n",
      "           ( SAVED DATA FOR IMAGE  19 )\n",
      "           ( SAVED DATA FOR IMAGE  20 )\n",
      "           ( SAVED DATA FOR IMAGE  21 )\n",
      "           ( SAVED DATA FOR IMAGE  22 )\n",
      "           ( SAVED DATA FOR IMAGE  23 )\n",
      "           ( SAVED DATA FOR IMAGE  24 )\n",
      "           ( SAVED DATA FOR IMAGE  25 )\n",
      "           ( SAVED DATA FOR IMAGE  26 )\n",
      "           ( SAVED DATA FOR IMAGE  27 )\n",
      "           ( SAVED DATA FOR IMAGE  28 )\n",
      "           ( SAVED DATA FOR IMAGE  29 )\n",
      "           ( SAVED DATA FOR IMAGE  30 )\n",
      "           ( SAVED DATA FOR IMAGE  31 )\n",
      "           ( SAVED DATA FOR IMAGE  32 )\n",
      "           ( SAVED DATA FOR IMAGE  33 )\n",
      "           ( SAVED DATA FOR IMAGE  34 )\n",
      "           ( SAVED DATA FOR IMAGE  35 )\n",
      "           ( SAVED DATA FOR IMAGE  36 )\n",
      "           ( SAVED DATA FOR IMAGE  37 )\n",
      "           ( SAVED DATA FOR IMAGE  38 )\n",
      "           ( SAVED DATA FOR IMAGE  39 )\n",
      "           ( SAVED DATA FOR IMAGE  40 )\n",
      "           ( SAVED DATA FOR IMAGE  41 )\n",
      "           ( SAVED DATA FOR IMAGE  42 )\n",
      "           ( SAVED DATA FOR IMAGE  43 )\n",
      "           ( SAVED DATA FOR IMAGE  44 )\n",
      "           ( SAVED DATA FOR IMAGE  45 )\n",
      "           ( SAVED DATA FOR IMAGE  46 )\n",
      "           ( SAVED DATA FOR IMAGE  47 )\n",
      "           ( SAVED DATA FOR IMAGE  48 )\n",
      "           ( SAVED DATA FOR IMAGE  49 )\n",
      "           ( SAVED DATA FOR IMAGE  50 )\n",
      "           ( SAVED DATA FOR IMAGE  51 )\n",
      "           ( SAVED DATA FOR IMAGE  52 )\n",
      "           ( SAVED DATA FOR IMAGE  53 )\n",
      "           ( SAVED DATA FOR IMAGE  54 )\n",
      "           ( SAVED DATA FOR IMAGE  55 )\n",
      "           ( SAVED DATA FOR IMAGE  56 )\n",
      "           ( SAVED DATA FOR IMAGE  57 )\n",
      "           ( SAVED DATA FOR IMAGE  58 )\n",
      "           ( SAVED DATA FOR IMAGE  59 )\n",
      "           ( SAVED DATA FOR IMAGE  60 )\n",
      "           ( SAVED DATA FOR IMAGE  61 )\n",
      "           ( SAVED DATA FOR IMAGE  62 )\n",
      "           ( SAVED DATA FOR IMAGE  63 )\n",
      "           ( SAVED DATA FOR IMAGE  64 )\n",
      "           ( SAVED DATA FOR IMAGE  65 )\n",
      "           ( SAVED DATA FOR IMAGE  66 )\n",
      "           ( SAVED DATA FOR IMAGE  67 )\n",
      "           ( SAVED DATA FOR IMAGE  68 )\n",
      "           ( SAVED DATA FOR IMAGE  69 )\n",
      "           ( SAVED DATA FOR IMAGE  70 )\n",
      "           ( SAVED DATA FOR IMAGE  71 )\n",
      "           ( SAVED DATA FOR IMAGE  72 )\n",
      "           ( SAVED DATA FOR IMAGE  73 )\n",
      "           ( SAVED DATA FOR IMAGE  74 )\n",
      "           ( SAVED DATA FOR IMAGE  75 )\n",
      "           ( SAVED DATA FOR IMAGE  76 )\n",
      "           ( SAVED DATA FOR IMAGE  77 )\n",
      "           ( SAVED DATA FOR IMAGE  78 )\n",
      "           ( SAVED DATA FOR IMAGE  79 )\n",
      "           ( SAVED DATA FOR IMAGE  80 )\n",
      "           ( SAVED DATA FOR IMAGE  81 )\n",
      "           ( SAVED DATA FOR IMAGE  82 )\n",
      "           ( SAVED DATA FOR IMAGE  83 )\n",
      "           ( SAVED DATA FOR IMAGE  84 )\n",
      "           ( SAVED DATA FOR IMAGE  85 )\n"
     ]
    }
   ],
   "source": [
    "from Extract2d import Extract2D\n",
    "\n",
    "data=Extract2D(data_path)\n",
    "\n",
    "#output is a dictionary. Keys are formated as 'obj#', with 'obj0' being the target and 'obj1'+ being calibrators\n",
    "#\n",
    "#invalid value encountered in divide error - IGNORE. We are dividing full frame images which include NaNs for the gaps."
   ]
  },
  {
   "cell_type": "markdown",
   "metadata": {
    "collapsed": false
   },
   "source": [
    "# --------------------------------------------------------------------------- \n",
    "# Flatten 2D Spectra #\n",
    "\n",
    "Fits a Background function and subtracts off.\n",
    "\n",
    "Fits a gaussian to each line of the 2D Spectra to dectect the center.\n",
    "\n",
    "The aperture is currently done as follows: Median aperture across lambda for each frame. Varies in time. Calcualted as 3*(median(FWHM)) of the guassian fit "
   ]
  },
  {
   "cell_type": "code",
   "execution_count": null,
   "metadata": {
    "collapsed": false
   },
   "outputs": [],
   "source": []
  },
  {
   "cell_type": "markdown",
   "metadata": {
    "collapsed": false
   },
   "source": [
    "# --------------------------------------------------------------------------- \n",
    "# Wavelength Calibration #\n",
    "\n",
    "Not working in notebook, will eventually update this code to run this way. \n",
    "\n",
    "Currently: Run via command line. I'll include instructions for this part soon."
   ]
  },
  {
   "cell_type": "code",
   "execution_count": null,
   "metadata": {
    "collapsed": false
   },
   "outputs": [],
   "source": []
  },
  {
   "cell_type": "markdown",
   "metadata": {
    "collapsed": false
   },
   "source": [
    "# --------------------------------------------------------------------------- \n",
    "# Time Correltation and Apply Wavelength Calibration #\n",
    "This accounts for shifts in the spectral direction by oversampling the spectra by your given factor and cross correlating in time to dectect shifts down to (1/factor) of a pixel.\n",
    "\n",
    "After correlation, all spectra are shifted as necessary and wavelength calibration is applied."
   ]
  },
  {
   "cell_type": "code",
   "execution_count": null,
   "metadata": {
    "collapsed": false
   },
   "outputs": [],
   "source": []
  },
  {
   "cell_type": "code",
   "execution_count": null,
   "metadata": {
    "collapsed": false
   },
   "outputs": [],
   "source": []
  },
  {
   "cell_type": "code",
   "execution_count": null,
   "metadata": {
    "collapsed": false
   },
   "outputs": [],
   "source": []
  },
  {
   "cell_type": "code",
   "execution_count": null,
   "metadata": {
    "collapsed": false
   },
   "outputs": [],
   "source": []
  },
  {
   "cell_type": "code",
   "execution_count": null,
   "metadata": {
    "collapsed": false
   },
   "outputs": [],
   "source": []
  },
  {
   "cell_type": "code",
   "execution_count": null,
   "metadata": {
    "collapsed": false
   },
   "outputs": [],
   "source": []
  },
  {
   "cell_type": "code",
   "execution_count": null,
   "metadata": {
    "collapsed": false
   },
   "outputs": [],
   "source": []
  },
  {
   "cell_type": "code",
   "execution_count": null,
   "metadata": {
    "collapsed": true
   },
   "outputs": [],
   "source": []
  }
 ],
 "metadata": {
  "kernelspec": {
   "display_name": "Python 2",
   "language": "python",
   "name": "python2"
  },
  "language_info": {
   "codemirror_mode": {
    "name": "ipython",
    "version": 2
   },
   "file_extension": ".py",
   "mimetype": "text/x-python",
   "name": "python",
   "nbconvert_exporter": "python",
   "pygments_lexer": "ipython2",
   "version": "2.7.13"
  }
 },
 "nbformat": 4,
 "nbformat_minor": 2
}
