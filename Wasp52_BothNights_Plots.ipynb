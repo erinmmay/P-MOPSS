{
 "cells": [
  {
   "cell_type": "code",
   "execution_count": 1,
   "metadata": {
    "collapsed": false
   },
   "outputs": [
    {
     "name": "stdout",
     "output_type": "stream",
     "text": [
      "2048 4096\n"
     ]
    }
   ],
   "source": [
    "import numpy as np\n",
    "#import os\n",
    "\n",
    "import matplotlib\n",
    "%matplotlib inline\n",
    "import matplotlib.pyplot as plt\n",
    "\n",
    "from astropy.io import fits\n",
    "\n",
    "from setup import *\n",
    "from FullFrame import FullFrame\n",
    "\n",
    "##--------------------------------------------------------------------------##\n",
    "##             NECESSARY USER INPUTS BELOW....                              ##\n",
    "##--------------------------------------------------------------------------##\n",
    "\n",
    "##################\n",
    "###   WASP4b   ###\n",
    "##################\n",
    "#obs_date='ut20150819'                           #observation date\n",
    "#obj_name='Wasp4'                                #object name   \n",
    "#midtime=['2015-08-19T07:43:00.00']                 #time of midtransit, WAsp-4b\n",
    "\n",
    "###################\n",
    "###   WASP52b   ###\n",
    "###################\n",
    "obs_date1='ut20160811'\n",
    "obs_date2='ut20160922'\n",
    "obj_name='Wasp52'\n",
    "\n",
    "midtime1=['2016-08-11T04:51:00']               #time of midtransit, Wasp-52b, Transit1\n",
    "midtime2=['2016-09-22T04:44:00']               #time of midtransit, Wasp-52b, Transit2\n",
    "\n",
    "##################\n",
    "###   Hats8b   ###\n",
    "##################\n",
    "#obs_date='ut20170723'                           #observation date\n",
    "#obs_date='ut20170828'\n",
    "#obj_name='Hats8'                                #object name  \n",
    "\n",
    "#midtime=['2017-07-24T05:28:01.056']                 #time of midtransit, Hats-8b, Transit 1\n",
    "#midtime=['2017-08-29T01:36:04.608']                 #time of midtransit, Hats-8b Transit 2\n",
    "\n",
    "\n",
    "path1='/Volumes/ermay_ext/Magellan/'+obs_date1+'/'\n",
    "path2='/Volumes/ermay_ext/Magellan/'+obs_date2+'/'\n",
    "\n",
    "#data_path=path+obj_name+'_Spec/'      #path to where your data is saved\n",
    "#flat_path=path+obj_name+'_Flats/'     #path to where your SLIT flats are saved\n",
    "#DARKS=path+obj_name+'_Darks/'     #path to where your darks are saved\n",
    "#FLATS=path+'Full_Flats/'             #path to where the full field flats are saved \n",
    "#WAVE=path+obj_name+'_Arcs/'\n",
    "\n",
    "#SAVEPATH='SaveData/'+obj_name+'/'\n",
    "SAVEPATH1=path1+'SaveData_'+obj_name+'/'\n",
    "SAVEPATH2=path2+'SaveData_'+obj_name+'/'\n",
    "\n",
    "#wavelength_path=path+'WaveSolution/'\n",
    "\n",
    "\n",
    "\n",
    "extray=400 #number of extra pixels to extract per side in y direction\n",
    "extrax=80  #number on the side to find wavelength strip, only for nights with a single mask\n",
    "\n",
    "\n",
    "binn=1    #binning\n",
    "#### CHECK BINNING IN SETUP.PY ####\n",
    "#### if 1x1 binning, xpixels,ypixels should be 2048,4096\n",
    "#### if 2x2 binning, xpixels,ypixels should be 1024,2048\n",
    "print xpixels/binn, ypixels/binn"
   ]
  },
  {
   "cell_type": "code",
   "execution_count": 2,
   "metadata": {
    "collapsed": false
   },
   "outputs": [],
   "source": [
    "import pickle\n",
    "\n",
    "W52=pickle.load(open(SAVEPATH1+'PLOTS/models/wasp52b.pickle'))\n",
    "W52_spec=W52['spectra']\n",
    "Tetal_rads=(((W52_spec['data_1'])['high'])['depth'])**(1./2.)\n",
    "Tetal_errs=(((W52_spec['data_1'])['high'])['error'])\n",
    "Tetal_errs=(0.5*Tetal_rads**(-1./2.))*Tetal_errs\n",
    "\n",
    "Tetal_wavs=((W52_spec['data_1'])['high'])['wavelength']*10000.\n",
    "Tetal_widt=((W52_spec['data_1'])['high'])['width']\n",
    "\n",
    "Letal_wavs=np.linspace(4125,8625,19)\n",
    "Letal_rads=np.array([0.1643,0.1632,0.1656,0.1641,0.1629,0.1619,0.1641,0.1639,0.1638,0.1640,0.1630,0.1645,0.1646,0.1652,0.1651,0.1660,0.1658,0.1664,0.1675])\n",
    "Letal_errs=np.array([14,13,12,10,9,8,11,10,7,9,6,7,8,8,8,6,7,16,16])/10000.\n",
    "\n",
    "Cetal_wavs=np.array([5306,5471,5636,5800,5891,5981,6147,6312,6477,6642,6807,6972,7137,7302,7467,7665,7682,7699,7790,7955,8120,8285,8450,8615,8780,8945])\n",
    "Cetal_widt=np.array([165,165,165,165,16,165,165,165,165,165,165,165,165,165,165,16,18,16,165,165,165,165,165,165,165,165])\n",
    "Cetal_rads=np.array([0.1624,0.1624,0.1608,0.1588,0.1717,0.1596,0.1610,0.1611,0.1604,0.1616,0.1617,0.1635,0.1613,0.1614,0.1608,0.1651,0.1608,0.1626,0.1623,0.1595,0.1609,0.1598,0.1609,0.1599,0.1612,0.1606])\n",
    "Cetal_errs=np.array([15,16,19,11,30,16,9,8,8,7,11,12,11,11,9,20,21,21,11,11,12,10,12,16,16,16])/10000.\n",
    "\n",
    "Cetal_rads+=0.004"
   ]
  },
  {
   "cell_type": "code",
   "execution_count": 3,
   "metadata": {
    "collapsed": false
   },
   "outputs": [
    {
     "data": {
      "text/plain": [
       "(4000, 8000)"
      ]
     },
     "execution_count": 3,
     "metadata": {},
     "output_type": "execute_result"
    },
    {
     "data": {
      "image/png": "[encoded data removed]",
      "text/plain": [
       "<matplotlib.figure.Figure at 0x1120634d0>"
      ]
     },
     "metadata": {},
     "output_type": "display_data"
    }
   ],
   "source": [
    "start=4400\n",
    "end=8000\n",
    "width=100\n",
    "\n",
    "R=4\n",
    "P=30\n",
    "\n",
    "#from Binning_Model import BinFun\n",
    "\n",
    "\n",
    "exo_w=np.genfromtxt(SAVEPATH1+'PLOTS/models/W52_noK.dat',usecols=[0],skip_header=1)*10**10.\n",
    "exo_d=(np.genfromtxt(SAVEPATH1+'PLOTS/models/W52_noK.dat',usecols=[1],skip_header=1)/100.)**(1./2.)\n",
    "\n",
    "exo_w_R=np.empty([len(exo_w)/R])\n",
    "exo_d_R=np.empty([len(exo_d)/R])\n",
    "\n",
    "exo_w_P=np.empty([len(exo_w)/P])\n",
    "exo_d_P=np.empty([len(exo_d)/P])\n",
    "\n",
    "z=0\n",
    "for w in range(0,len(exo_w_R)):\n",
    "    exo_w_R[w]=np.nanmedian(exo_w[z:z+R])\n",
    "    exo_d_R[w]=np.nanmedian(exo_d[z:z+R])\n",
    "    z+=R\n",
    "    \n",
    "z=0\n",
    "for w in range(0,len(exo_w_P)):\n",
    "    exo_w_P[w]=np.nanmedian(exo_w[z:z+P])\n",
    "    exo_d_P[w]=np.nanmedian(exo_d[z:z+P])\n",
    "    z+=P\n",
    "\n",
    "#exo_w_P,exo_d_P=BinFun(exo_d_R,exo_w_R,start,end,width)\n",
    "\n",
    "plt.clf()\n",
    "plt.cla()\n",
    "plt.plot(exo_w_R,exo_d_R,color='red')\n",
    "plt.plot(exo_w_P,exo_d_P,'.',markerfacecolor='red',markeredgecolor='black',markersize=15)\n",
    "plt.xlim(4000,8000)"
   ]
  },
  {
   "cell_type": "code",
   "execution_count": 4,
   "metadata": {
    "collapsed": false
   },
   "outputs": [],
   "source": [
    "def ComNights(x,dx,y,dy):\n",
    "    d=np.zeros_like(x)\n",
    "    dd=np.zeros_like(x)\n",
    "    for i in range(0,len(d)):\n",
    "        d[i]=np.nansum([x[i]/dx[i]**2.,y[i]/dy[i]**2.])/np.nansum([1./dx[i]**2.,1./dy[i]**2.])\n",
    "        dd[i]=1./np.nansum([1./dx[i]**2.,1./dy[i]**2.])\n",
    "    return d,dd"
   ]
  },
  {
   "cell_type": "code",
   "execution_count": 33,
   "metadata": {
    "collapsed": false
   },
   "outputs": [
    {
     "name": "stdout",
     "output_type": "stream",
     "text": [
      "[             nan   1.08831517e-04   9.48961364e-05   8.33134822e-05\n",
      "   8.05802401e-05   7.84362044e-05   7.82661658e-05   7.74561516e-05\n",
      "   7.75094253e-05   7.76189900e-05   7.78265962e-05   9.59725966e-05\n",
      "   8.32662766e-05   7.75911620e-05   7.94902304e-05   8.11458282e-05\n",
      "   8.94310334e-05   8.52182490e-05]\n",
      "[             nan              nan   0.00000000e+00   9.36204689e-05\n",
      "   8.11052151e-05   7.90928558e-05   7.93191036e-05   7.84402236e-05\n",
      "   7.86148341e-05   7.86546538e-05   7.89706485e-05   9.71014696e-05\n",
      "   8.40951713e-05   7.85678982e-05   8.01246776e-05   8.28617766e-05\n",
      "   8.83514286e-05   8.48504785e-05]\n"
     ]
    },
    {
     "data": {
      "image/png": "[encoded data removed]",
      "text/plain": [
       "<matplotlib.figure.Figure at 0x1197e4790>"
      ]
     },
     "metadata": {},
     "output_type": "display_data"
    }
   ],
   "source": [
    "t1=np.load(SAVEPATH1+'Binned_Data_200.npz')['bin_counts']\n",
    "t2=np.load(SAVEPATH2+'Binned_Data_200.npz')['bin_counts']\n",
    "\n",
    "t1=np.nanmedian(t1,axis=0)\n",
    "t2=np.nanmedian(t2,axis=0)\n",
    "\n",
    "\n",
    "plt.plot(bin_ctr_200_1,t1[:,0])\n",
    "plt.plot(bin_ctr_200_2,t2[:,0])\n",
    "\n",
    "errs_1=np.sqrt(t1[:,0])/(t1[:,3]+t1[:,5]+t1[:,8])\n",
    "errs_2=np.sqrt(t2[:,0])/(t2[:,3]+t2[:,5]+t2[:,8])\n",
    "\n",
    "print errs_1\n",
    "print errs_2"
   ]
  },
  {
   "cell_type": "code",
   "execution_count": 35,
   "metadata": {
    "collapsed": false
   },
   "outputs": [
    {
     "name": "stdout",
     "output_type": "stream",
     "text": [
      "20\n"
     ]
    }
   ],
   "source": [
    "print len(dt_e_t_200_2)"
   ]
  },
  {
   "cell_type": "code",
   "execution_count": 42,
   "metadata": {
    "collapsed": false
   },
   "outputs": [
    {
     "name": "stdout",
     "output_type": "stream",
     "text": [
      "18\n",
      "[        nan         nan  0.16296201  0.16339797  0.1651672   0.16210019\n",
      "  0.16288362  0.16442812  0.16588233  0.16590189  0.16566217  0.16409792\n",
      "  0.16576771  0.16549768  0.16402717  0.16495124  0.16279377  0.16573224]\n",
      "[        nan         nan         nan  0.16400663  0.16400682  0.16433666\n",
      "  0.16279064  0.16440017  0.16286515  0.1619866   0.16220124  0.16246947\n",
      "  0.1637653   0.16453743  0.16465737  0.1647974   0.16184742  0.16327294]\n",
      "[             nan   6.92428767e-04   2.21529442e-04   1.06301121e-04\n",
      "   7.22036840e-05   3.71661984e-05   8.66918002e-05   5.80433358e-05\n",
      "   4.91795577e-05   3.84899684e-06   2.89724798e-05   1.44416372e-05\n",
      "   8.59735450e-05   8.65281597e-06   6.45680266e-05   1.32702173e-04\n",
      "   1.55890718e-04   1.67583129e-04]\n",
      "[             nan              nan              nan              nan\n",
      "   2.50045485e-06   1.89004774e-06   1.77521441e-06   1.74024794e-06\n",
      "   1.62223224e-06   1.69753089e-06   1.71189780e-06   1.72745739e-06\n",
      "   1.87287157e-06   1.94429643e-06   1.84030531e-06   1.93232721e-06\n",
      "   2.05545326e-06   1.72970280e-05   1.62087217e-04              nan]\n",
      "*****\n",
      "[        nan  0.          0.          0.16366697  0.16459078  0.1632091\n",
      "  0.16283775  0.16441432  0.1643951   0.16397019  0.16395696  0.16329322\n",
      "  0.16477642  0.16502356  0.16433976  0.16487593  0.16231485  0.16449727]\n",
      "[             inf   4.73771966e-08   0.00000000e+00   1.54941791e-08\n",
      "   1.30706798e-08   1.24070556e-08   1.24148956e-08   1.21503874e-08\n",
      "   1.21855594e-08   1.22091171e-08   1.22907248e-08   1.86368861e-08\n",
      "   1.40038966e-08   1.21913951e-08   1.27378557e-08   1.34448311e-08\n",
      "   1.58015537e-08   1.44614832e-08]\n",
      "*****\n"
     ]
    }
   ],
   "source": [
    "width=200\n",
    "em=10**5.\n",
    "\n",
    "\n",
    "\n",
    "#mfile='HATS8b_1em1S.dat'\n",
    "#model=(np.genfromtxt(SAVEPATH+mfile,usecols=[1],skip_header=2)/100)**(1./2.)\n",
    "#mwave=np.genfromtxt(SAVEPATH+mfile,usecols=[0],skip_header=2)*10**10.\n",
    "\n",
    "\n",
    "from matplotlib.font_manager import FontProperties\n",
    "font0=FontProperties()\n",
    "font=font0.copy()\n",
    "font.set_family('serif')\n",
    "\n",
    "fontb=font.copy()\n",
    "fontb.set_weight('bold')\n",
    "\n",
    "import os\n",
    "\n",
    "### night 1\n",
    "\n",
    "bin_ctr_200_1=np.load(SAVEPATH1+'LC_bins_br_200.npz')['bin_ctr']\n",
    "dt_e_p_200_1=np.nanmedian(np.load(SAVEPATH1+'LC_bins_br_200.npz')['err_p'],axis=0)\n",
    "dt_e_t_200_1=np.nanmedian(np.load(SAVEPATH1+'LC_bins_br_200.npz')['err_t'],axis=0)\n",
    "             \n",
    "rp_200_1=np.empty([len(bin_ctr_200_1)])\n",
    "rp_e_200_1=np.empty([len(bin_ctr_200_1)])\n",
    "rs_e_200_1=np.empty([len(bin_ctr_200_1)])\n",
    "\n",
    "bin_ctr_1=np.load(SAVEPATH1+'LC_bins_br_'+str(int(width))+'.npz')['bin_ctr']\n",
    "dt_e_p_1=np.nanmedian(np.load(SAVEPATH1+'LC_bins_br_'+str(int(width))+'.npz')['err_p'],axis=0)\n",
    "dt_e_t_1=np.nanmedian(np.load(SAVEPATH1+'LC_bins_br_'+str(int(width))+'.npz')['err_t'],axis=0)\n",
    "             \n",
    "rp_1=np.empty([len(bin_ctr_1)])\n",
    "rp_e_1=np.empty([len(bin_ctr_1)])\n",
    "rs_e_1=np.empty([len(bin_ctr_1)])\n",
    "\n",
    "### night 2\n",
    "\n",
    "bin_ctr_200_2=np.load(SAVEPATH2+'LC_bins_br_200.npz')['bin_ctr']\n",
    "dt_e_p_200_2=np.nanmedian(np.load(SAVEPATH2+'LC_bins_br_200.npz')['err_p'],axis=0)\n",
    "dt_e_t_200_2=np.nanmedian(np.load(SAVEPATH2+'LC_bins_br_200.npz')['err_t'],axis=0)\n",
    "             \n",
    "rp_200_2=np.empty([len(bin_ctr_200_2)])\n",
    "rp_e_200_2=np.empty([len(bin_ctr_200_2)])\n",
    "rs_e_200_2=np.empty([len(bin_ctr_200_2)])\n",
    "\n",
    "bin_ctr_2=np.load(SAVEPATH2+'LC_bins_br_'+str(int(width))+'.npz')['bin_ctr']\n",
    "dt_e_p_2=np.nanmedian(np.load(SAVEPATH2+'LC_bins_br_'+str(int(width))+'.npz')['err_p'],axis=0)\n",
    "dt_e_t_2=np.nanmedian(np.load(SAVEPATH2+'LC_bins_br_'+str(int(width))+'.npz')['err_t'],axis=0)\n",
    "             \n",
    "rp_2=np.empty([len(bin_ctr_2)])\n",
    "rp_e_2=np.empty([len(bin_ctr_2)])\n",
    "rs_e_2=np.empty([len(bin_ctr_2)])\n",
    "\n",
    "\n",
    "\n",
    "### color scaling ###\n",
    "bin_ctr_200=bin_ctr_200_1\n",
    "bin_ctr=bin_ctr_1\n",
    "\n",
    "norm=matplotlib.colors.Normalize(vmin=np.min(bin_ctr_200),vmax=np.max(bin_ctr_200))                                                                                                                 \n",
    "colors=matplotlib.cm.Spectral_r\n",
    "scal_m=matplotlib.cm.ScalarMappable(cmap=colors,norm=norm)\n",
    "scal_m.set_array([])\n",
    "\n",
    "print len(bin_ctr)\n",
    "\n",
    "b=0\n",
    "for file in os.listdir(SAVEPATH1+'Fits_'+str(int(width))+'/'):\n",
    "    if file.endswith('.npz'):\n",
    "        if b==len(bin_ctr_1):\n",
    "            rbwhite_1=(np.load(SAVEPATH1+'Fits_'+str(int(width))+'/'+file)['params'])[2]\n",
    "        else:\n",
    "            rp_1[b]=(np.load(SAVEPATH1+'Fits_'+str(int(width))+'/'+file)['params'])[2]\n",
    "            rp_e_1[b]=np.nanmedian((np.load(SAVEPATH1+'Fits_'+str(int(width))+'/'+file)['paramserr'])[2])\n",
    "            rs_e_1[b]=np.abs(np.nanmedian(np.load(SAVEPATH1+'Fits_'+str(int(width))+'/'+file)['residuals']))*10**-6\n",
    "            \n",
    "            b+=1\n",
    "            \n",
    "b=0\n",
    "for file in os.listdir(SAVEPATH1+'Fits_200/'):\n",
    "    if file.endswith('.npz'):\n",
    "        if b==len(bin_ctr_200_1):\n",
    "            rbwhite_200_1=(np.load(SAVEPATH1+'Fits_200/'+file)['params'])[2]\n",
    "        else:\n",
    "            rp_200_1[b]=(np.load(SAVEPATH1+'Fits_200/'+file)['params'])[2]\n",
    "            rp_e_200_1[b]=np.nanmedian((np.load(SAVEPATH1+'Fits_200/'+file)['paramserr'])[2])\n",
    "            rs_e_200_1[b]=np.abs(np.nanmedian(np.load(SAVEPATH1+'Fits_200/'+file)['residuals']))*10**-6\n",
    "\n",
    "            b+=1\n",
    "            \n",
    "            \n",
    "b=0\n",
    "for file in os.listdir(SAVEPATH2+'Fits_'+str(int(width))+'/'):\n",
    "    if file.endswith('.npz'):\n",
    "        if b==len(bin_ctr_2):\n",
    "            rbwhite_2=(np.load(SAVEPATH2+'Fits_'+str(int(width))+'/'+file)['params'])[2]\n",
    "        else:\n",
    "            rp_2[b]=(np.load(SAVEPATH2+'Fits_'+str(int(width))+'/'+file)['params'])[2]\n",
    "            rp_e_2[b]=np.nanmedian((np.load(SAVEPATH2+'Fits_'+str(int(width))+'/'+file)['paramserr'])[2])\n",
    "            rs_e_2[b]=np.abs(np.nanmedian(np.load(SAVEPATH2+'Fits_'+str(int(width))+'/'+file)['residuals']))*10**-6\n",
    "            \n",
    "            b+=1\n",
    "            \n",
    "b=0\n",
    "for file in os.listdir(SAVEPATH2+'Fits_200/'):\n",
    "    if file.endswith('.npz'):\n",
    "        if b==len(bin_ctr_200_2):\n",
    "            rbwhite_200_2=(np.load(SAVEPATH2+'Fits_200/'+file)['params'])[2]\n",
    "        else:\n",
    "            rp_200_2[b]=(np.load(SAVEPATH2+'Fits_200/'+file)['params'])[2]\n",
    "            rp_e_200_2[b]=np.nanmedian((np.load(SAVEPATH2+'Fits_200/'+file)['paramserr'])[2])\n",
    "            rs_e_200_2[b]=np.abs(np.nanmedian(np.load(SAVEPATH2+'Fits_200/'+file)['residuals']))*10**-6\n",
    "\n",
    "            b+=1\n",
    "            \n",
    "rp_200_2=np.array([np.nan,np.nan,np.nan,0.16400663,0.16400682,0.16433666,0.16279064,0.16440017,0.16286515,0.1619866,0.16220124,0.16246947,0.1637653,0.16453743,0.16465737,0.1647974,0.16184742,0.16327294])\n",
    "rp_200_1[0]=np.nan\n",
    "rp_200_1[1]=np.nan\n",
    "\n",
    "\n",
    "owave=np.logspace(4000,9000,1000)\n",
    "\n",
    "\n",
    "\n",
    "nanarr=np.array([np.nan])\n",
    "\n",
    "#rp_200_2=np.append(np.append(nanarr,rp_200_2),nanarr)\n",
    "#rs_e_200_2=np.append(np.append(nanarr,rs_e_200_2),nanarr)\n",
    "#rp_e_200_2=np.append(np.append(nanarr,rp_e_200_2),nanarr)\n",
    "#dt_e_t_200_2=np.append(np.append(nanarr,dt_e_t_200_2),nanarr)\n",
    "\n",
    "rs_e_200_1=errs_1\n",
    "rs_e_200_2=errs_2\n",
    "\n",
    "#n1_te_200=np.sqrt(rp_e_200_1**2.+rs_e_200_1**2.+dt_e_t_200_1**2.)\n",
    "#n2_te_200=np.sqrt(rp_e_200_2**2.+rs_e_200_2**2.+dt_e_t_200_2**2.)\n",
    "\n",
    "\n",
    "print rp_200_1\n",
    "print rp_200_2\n",
    "\n",
    "print n1_te_200\n",
    "print n2_te_200\n",
    "\n",
    "print '*****'\n",
    "\n",
    "\n",
    "rp_200,te_200=ComNights(rp_200_1,2.*errs_1,rp_200_2,2.*errs_2)\n",
    "print rp_200\n",
    "print te_200\n",
    "\n",
    "print '*****'\n",
    "\n",
    "\n",
    "#rp_2=np.append(np.append(nanarr,rp_2),nanarr)\n",
    "#rs_e_2=np.append(np.append(nanarr,rs_e_2),nanarr)\n",
    "#rp_e_2=np.append(np.append(nanarr,rp_e_2),nanarr)\n",
    "#dt_e_t_2=np.append(np.append(nanarr,dt_e_t_2),nanarr)\n",
    "\n",
    "#n1_te=np.sqrt(rp_e_1**2.+rs_e_1**2.+dt_e_t_1**2.)\n",
    "#n2_te=np.sqrt(rp_e_2**2.+rs_e_2**2.+dt_e_t_2**2.)#\n",
    "\n",
    "#rp,te=ComNights(rp_1,n1_te,rp_2,n2_te)\n",
    "\n",
    "#print rp\n",
    "#print te\n",
    "\n",
    "\n",
    "#print rp_e\n",
    "\n",
    "\n",
    "\n"
   ]
  },
  {
   "cell_type": "code",
   "execution_count": 43,
   "metadata": {
    "collapsed": false
   },
   "outputs": [
    {
     "name": "stdout",
     "output_type": "stream",
     "text": [
      "[ 4500.  4700.  4900.  5100.  5300.  5500.  5700.  5900.  6100.  6300.\n",
      "  6500.  6700.  6900.  7100.  7300.  7500.  7700.  7900.]\n"
     ]
    },
    {
     "data": {
      "image/png": "[encoded data removed]",
      "text/plain": [
       "<matplotlib.figure.Figure at 0x1199d8510>"
      ]
     },
     "metadata": {},
     "output_type": "display_data"
    }
   ],
   "source": [
    "print bin_ctr\n",
    "\n",
    "plt.plot(bin_ctr,rp_200_1,'.',color='red')\n",
    "plt.plot(bin_ctr,rp_200_2,'.',color='blue')\n",
    "plt.plot(bin_ctr,rp_200,'.',color='green')\n",
    "plt.ylim(0.16,0.17)\n",
    "\n",
    "plt.show()"
   ]
  },
  {
   "cell_type": "code",
   "execution_count": 112,
   "metadata": {
    "collapsed": false
   },
   "outputs": [
    {
     "data": {
      "image/png": "[encoded data removed]",
      "text/plain": [
       "<matplotlib.figure.Figure at 0x11f342950>"
      ]
     },
     "metadata": {},
     "output_type": "display_data"
    }
   ],
   "source": [
    "wavelog=np.log(bin_ctr)\n",
    "rays=np.polyfit(wavelog,rp_200,1)\n",
    "ray=(np.poly1d(rays))(wavelog)\n",
    "#tests=(np.poly1d(test))(np.log(mwave))\n",
    "\n",
    "\n",
    "rp_200_n=rp_200[~np.isnan(rp_200)]\n",
    "wavelog_n=wavelog[~np.isnan(rp_200)]\n",
    "lins=np.polyfit(wavelog_n[2:],rp_200_n[2:],0)\n",
    "lin=(np.poly1d(lins))(wavelog)\n",
    "\n",
    "\n",
    "###########################\n",
    "#sys.path.insert(0,SAVEPATH) \n",
    "#from SystemCons import *\n",
    "\n",
    "alpha=-4.\n",
    "kb=1.380658*10**-16   #boltzmann constant, erg/K\n",
    "mh=1.6726*10**-24     #mass of hydrogen in g\n",
    "muj=2.3                #mu of jupiter\n",
    "\n",
    "# Rs is in cm\n",
    "\n",
    "#-----W4, int=0.1735\n",
    "#Rs=6.4*10**10.\n",
    "#Tplan=1600.   #temperature of planet in K\n",
    "#gplan=1707.   # gravity in cm/s^2\n",
    "\n",
    "#------W52\n",
    "Rs=5.5*10**10.\n",
    "Tplan=1300.   #temperature of planet in K\n",
    "gplan=707.   # gravity in cm/s^2\n",
    "\n",
    "slope=(alpha/Rs)*(kb*Tplan)/((muj*mh)*gplan)\n",
    "\n",
    "raya=(np.poly1d([slope,0.206]))(wavelog)\n",
    "#########################\n",
    "\n",
    "chi_rayfit=np.nansum((ray-rp)**2.)\n",
    "chi_flat=np.nansum((lin-rp)**2.)\n",
    "chi_act=np.nansum((raya-rp)**2.)\n",
    "\n",
    "#xerr1=np.zeros_like(bin_ctr)\n",
    "#xerr2=np.zeros_like(bin_ctr)\n",
    "xerr1=np.abs(np.log(bin_ctr/(bin_ctr-width/2.)))\n",
    "xerr2=np.abs(np.log(bin_ctr_200/(bin_ctr_200+100.)))\n",
    "                \n",
    "            \n",
    "            \n",
    "plt.figure(figsize=(12,6)) \n",
    "#plt.figure(figsize=(8,10.5)) #full page size\n",
    "#plt.figure(figsize=(8,5.25)) #half page size\n",
    "\n",
    "#plt.plot(wavelog,ray,color='grey',linewidth=3.0)\n",
    "plt.plot(wavelog,lin,color='dimgrey',linewidth=3.0,linestyle='--')\n",
    "#plt.plot(wavelog,raya,color='grey',linewidth=3.0,linestyle='--')\n",
    "\n",
    "#plt.plot(np.log(exo_w),exo_d-0.002,color='gray',linewidth=5.0)\n",
    "#plt.plot(np.log(exo_w_P),exo_d_P-0.002,'.',markersize=18,markerfacecolor='black',markeredgecolor='black')\n",
    "#plt.plot(np.log(mwave),model,color='dimgrey',linewidth=2.0,linestyle='--')\n",
    "\n",
    "plt.plot(np.log(Tetal_wavs+Tetal_widt/2.),Tetal_rads,'s',markersize=12,markeredgecolor='black',markerfacecolor='orange',zorder=8,alpha=0.7)\n",
    "plt.errorbar(np.log(Tetal_wavs+Tetal_widt/2.),Tetal_rads, yerr=Tetal_errs,zerr=Tetal_widt/2.,capsize=2,ecolor='grey',fmt='None',zorder=7,alpha=0.7)\n",
    "\n",
    "plt.plot(np.log(Letal_wavs),Letal_rads,'^',markersize=12,markeredgecolor='black',markerfacecolor='green',zorder=10,alpha=0.7)\n",
    "plt.errorbar(np.log(Letal_wavs),Letal_rads, yerr=Letal_errs,zerr=125.*10**(-4.),capsize=2,ecolor='grey',fmt='None',zorder=9,alpha=0.7)\n",
    "\n",
    "plt.plot(np.log(Cetal_wavs),Cetal_rads,'D',markersize=12,markeredgecolor='black',markerfacecolor='purple',zorder=8,alpha=0.7)\n",
    "plt.errorbar(np.log(Cetal_wavs),Cetal_rads, yerr=Cetal_errs,zerr=Cetal_widt,capsize=2,ecolor='grey',fmt='None',zorder=7,alpha=0.7)\n",
    "\n",
    "plt.plot(np.log(bin_ctr_200),rp_200,'.', markeredgewidth=2.0,markersize=25,markeredgecolor='black', color='orange',zorder=11)\n",
    "plt.errorbar(np.log(bin_ctr_200),rp_200,yerr=em*(te_200),xerr=xerr2,ecolor='black',fmt='None',elinewidth=2.0,capsize=5.0,capthick=2.0,zorder=10)\n",
    "\n",
    "#for b in range(0,len(bin_ctr)):\n",
    "#    if b==0 or b==1 or b==2 or b==5:\n",
    "#        continue\n",
    "#    #if b==0 or b==1 or b==2 or b==3 or b==4 or b==5 or b==6 or b==10 or b==11 or b==24 or b==64:# or b==3 or b==11 or b==17:\n",
    "#    #    continue\n",
    "#    plt.plot(np.log(bin_ctr[b]),rp[b],'.', markeredgewidth=0.5,markersize=18,markeredgecolor='black', markerfacecolor=scal_m.to_rgba(bin_ctr[b]),alpha=0.3,zorder=11)\n",
    "#    plt.errorbar(np.log(bin_ctr[b]),rp[b],yerr=em*(te[b]),xerr=xerr1[b],color='black',elinewidth=0.5,capsize=2.0,capthick=1.0,alpha=0.3,zorder=10)\n",
    "\n",
    "#for b in range(0,len(bin_ctr_200)):\n",
    "#    if b==0:# or b==1 or b==3 or b==11 or b==17:\n",
    "#        continue\n",
    "#    plt.plot(np.log(bin_ctr_200[b]),rp_200[b],'.', markeredgewidth=2.0,markersize=25,markeredgecolor='black', markerfacecolor=scal_m.to_rgba(bin_ctr_200[b]),zorder=11)\n",
    "#   plt.errorbar(np.log(bin_ctr_200[b]),rp_200[b],yerr=em*(te_200[b]),xerr=xerr2[b],color='black',elinewidth=2.0,capsize=5.0,capthick=2.0,zorder=10)\n",
    "plt.axvline(x=np.log(5890),linestyle='--',color='grey')\n",
    "plt.axvline(x=np.log(7665),linestyle='--',color='grey')\n",
    "\n",
    "plt.xticks(np.log([4000,5000,6000,7000,8000,9000]),['0.4','0.5','0.6','0.7','0.8','0.9'],fontsize=18,fontproperties=font)\n",
    "plt.xlim(np.log(4400),np.log(8000))\n",
    "plt.ylim(0.16,0.17)\n",
    "\n",
    "plt.yticks(fontsize=18,fontproperties=font)\n",
    "#plt.ylim(0.08,0.15)  #Hats8b\n",
    "#plt.ylim(0.16,0.18)\n",
    "#plt.figtext(0.20,0.45,'Solar Composition Atmosphere,',fontsize=15, fontproperties=font, color='dimgrey')\n",
    "#plt.figtext(0.20,0.40,'Increased Scattering Properties',fontsize=15, fontproperties=font, color='dimgrey')\n",
    "#plt.figtext(0.15,0.20,'Standard Scattering Properties',fontsize=15, fontproperties=font, color='dimgrey')\n",
    "#plt.annotate('Na',xy=(np.log(5900),0.13),xytext=(np.log(6000),0.145),arrowprops=dict(facecolor='black', shrink=0.01,width=1.5),fontsize=12,fontproperties=font)\n",
    "#plt.annotate('K',xy=(np.log(7700),0.125),xytext=(np.log(8000),0.135),arrowprops=dict(facecolor='black', shrink=0.01,width=1.5),fontsize=12,fontproperties=font)\n",
    "plt.ylabel('R$_p$/R$_s$',fontsize=25,fontproperties=font)\n",
    "\n",
    "#plt.figtext(0.15,0.27,'Rayleigh Fit, -',color='grey',fontsize=15,fontproperties=fontb)\n",
    "#plt.figtext(0.13,0.82,'Flat Spectra, -', color='grey',fontsize=15,fontproperties=fontb)\n",
    "#plt.figtext(0.13,0.77,'Nominal Rayleigh, --', color='grey',fontsize=15,fontproperties=fontb)\n",
    "\n",
    "plt.scatter(np.log(4550),0.1693,marker='D',s=100,c='purple')\n",
    "plt.figtext(0.185,0.8155, 'Chen et al. (2017)',fontproperties=font,fontsize=15)\n",
    "\n",
    "plt.scatter(np.log(4550),0.16845,marker='^',s=100,c='green')\n",
    "plt.figtext(0.185,0.75, 'Louden et al. (2017)',fontproperties=font,fontsize=15)\n",
    "\n",
    "plt.scatter(np.log(4550),0.1676,marker='o',s=100,c='orange')\n",
    "plt.figtext(0.185,0.6845, 'This Work',fontproperties=font,fontsize=15)\n",
    "\n",
    "plt.xlabel('Wavelength, $\\mu$m',fontsize=25,fontproperties=font)\n",
    "#plt.show()\n",
    "plt.savefig(SAVEPATH1+'PLOTS/TSpec_alldata_bothnights'+str(int(width))+'.eps')    \n",
    "plt.savefig(SAVEPATH2+'PLOTS/TSpec_alldata_bothnights'+str(int(width))+'.eps')  "
   ]
  },
  {
   "cell_type": "code",
   "execution_count": 77,
   "metadata": {
    "collapsed": false
   },
   "outputs": [
    {
     "name": "stdout",
     "output_type": "stream",
     "text": [
      "[        inf  0.00473772  0.          0.00154942  0.00130707  0.00124071\n",
      "  0.00124149  0.00121504  0.00121856  0.00122091  0.00122907  0.00186369\n",
      "  0.00140039  0.00121914  0.00127379  0.00134448  0.00158016  0.00144615]\n"
     ]
    }
   ],
   "source": [
    "print em*te_200"
   ]
  },
  {
   "cell_type": "code",
   "execution_count": 59,
   "metadata": {
    "collapsed": false
   },
   "outputs": [],
   "source": [
    "rp_200_n=rp_200[~np.isnan(rp_200)]\n",
    "wavelog_n=wavelog[~np.isnan(rp_200)]\n",
    "lins=np.polyfit(wavelog_n[2:],rp_200_n[2:],0)\n",
    "lin=(np.poly1d(lins))(wavelog)"
   ]
  },
  {
   "cell_type": "code",
   "execution_count": 60,
   "metadata": {
    "collapsed": false
   },
   "outputs": [
    {
     "name": "stdout",
     "output_type": "stream",
     "text": [
      "[ 0.          0.          0.16366697  0.16459078  0.1632091   0.16283775\n",
      "  0.16441432  0.1643951   0.16397019  0.16395696  0.16329322  0.16477642\n",
      "  0.16502356  0.16433976  0.16487593  0.16231485  0.16449727]\n",
      "[ 0.16401081] [ 0.16401081  0.16401081  0.16401081  0.16401081  0.16401081  0.16401081\n",
      "  0.16401081  0.16401081  0.16401081  0.16401081  0.16401081  0.16401081\n",
      "  0.16401081  0.16401081  0.16401081  0.16401081  0.16401081  0.16401081]\n"
     ]
    }
   ],
   "source": [
    "print rp_200_n\n",
    "print lins, lin"
   ]
  },
  {
   "cell_type": "code",
   "execution_count": 13,
   "metadata": {
    "collapsed": false
   },
   "outputs": [
    {
     "name": "stdout",
     "output_type": "stream",
     "text": [
      "[ nan  nan  nan  nan  nan  nan  nan  nan  nan  nan  nan  nan  nan  nan  nan\n",
      "  nan  nan  nan]\n",
      "[ nan  nan  nan  nan  nan  nan  nan  nan  nan  nan  nan  nan  nan  nan  nan\n",
      "  nan  nan  nan]\n"
     ]
    }
   ],
   "source": [
    "import os\n",
    "\n",
    "bin_ctr=np.load(SAVEPATH1+'LC_bins_br_200.npz')['bin_ctr']\n",
    "\n",
    "c1_1=np.empty([len(bin_ctr)])*np.nan\n",
    "c2_1=np.empty([len(bin_ctr)])*np.nan\n",
    "\n",
    "c1_2=np.empty([len(bin_ctr)])*np.nan\n",
    "c2_2=np.empty([len(bin_ctr)])*np.nan\n",
    "\n",
    "print c2_1\n",
    "print c2_2\n",
    "\n",
    "b=0\n",
    "for file in os.listdir(SAVEPATH1+'Fits_200/'):\n",
    "    if file.endswith('.npz'):\n",
    "        if b==len(bin_ctr):\n",
    "            c1white_1=(np.load(SAVEPATH1+'Fits_200/'+file)['params'])[5]\n",
    "            c2white_1=(np.load(SAVEPATH1+'Fits_200/'+file)['params'])[6]\n",
    "        else:\n",
    "            c1_1[b]=(np.load(SAVEPATH1+'Fits_200/'+file)['params'])[5]\n",
    "            c2_1[b]=(np.load(SAVEPATH1+'Fits_200/'+file)['params'])[6]\n",
    "\n",
    "            b+=1\n",
    "            \n",
    "new_path='/Users/ermay/Desktop/new_fit/'            \n",
    "for b in range(0,len(bin_ctr)):\n",
    "    if b>=3:\n",
    "        filel=np.load(new_path+str(b)+'_LightCurve_batman_fits.npz')\n",
    "        c1_2[b]=filel['params'][1]\n",
    "        c2_2[b]=filel['params'][2]"
   ]
  },
  {
   "cell_type": "code",
   "execution_count": 18,
   "metadata": {
    "collapsed": false
   },
   "outputs": [
    {
     "data": {
      "image/png": "[encoded data removed]",
      "text/plain": [
       "<matplotlib.figure.Figure at 0x108214b90>"
      ]
     },
     "metadata": {},
     "output_type": "display_data"
    }
   ],
   "source": [
    "ft_c='tomato'\n",
    "bins=bin_ctr\n",
    "\n",
    "from matplotlib.font_manager import FontProperties\n",
    "font0=FontProperties()\n",
    "font=font0.copy()\n",
    "font.set_family('serif')\n",
    "\n",
    "fontb=font.copy()\n",
    "fontb.set_weight('bold')\n",
    "\n",
    "plt.gcf().subplots_adjust(bottom=0.28,top=0.95,left=0.15,right=0.99)\n",
    "\n",
    "plt.plot(bins,c1_1,color='black')\n",
    "plt.plot(bins,c1_2,color=ft_c)\n",
    "plt.plot(bins,c1_1,'o',color='black')\n",
    "plt.plot(bins,c1_2,'o',color=ft_c)\n",
    "\n",
    "plt.plot(bins,c2_1,color='black')\n",
    "plt.plot(bins,c2_2,color=ft_c)\n",
    "plt.plot(bins,c2_1,'v',color='black')\n",
    "plt.plot(bins,c2_2,'v',color=ft_c)\n",
    "\n",
    "plt.figtext(0.95,0.87,'Non-Spotted',color='black',fontsize=15,ha='right',fontproperties=font)\n",
    "plt.figtext(0.95,0.80,'Spotted',color=ft_c,fontsize=15,ha='right',fontproperties=font)\n",
    "plt.figtext(0.2,0.6,'q0 $\\\\bullet$',color='black',fontsize=15,fontproperties=font)\n",
    "plt.figtext(0.2,0.53,'q1 $\\\\blacktriangledown$',color='black',fontsize=15,fontproperties=font)\n",
    "\n",
    "plt.xticks(fontproperties=font,fontsize=15,rotation='vertical')\n",
    "plt.yticks(fontproperties=font,fontsize=15)\n",
    "\n",
    "plt.xlabel('Wavelength, $\\AA$',fontproperties=font,fontsize=20)\n",
    "plt.ylabel('Limb Darkening',fontproperties=font,fontsize=20)\n",
    "\n",
    "plt.xlim(3800,8200)\n",
    "plt.ylim(-0.15,1.1)\n",
    "\n",
    "plt.savefig('/Users/ermay/Documents/GradSchool/Research_Observing/Paper1/plots/limb_dark_act.eps')\n"
   ]
  },
  {
   "cell_type": "code",
   "execution_count": 11,
   "metadata": {
    "collapsed": false
   },
   "outputs": [
    {
     "name": "stdout",
     "output_type": "stream",
     "text": [
      "[ 4500.  4700.  4900.  5100.  5300.  5500.  5700.  5900.  6100.  6300.\n",
      "  6500.  6700.  6900.  7100.  7300.  7500.  7700.  7900.]\n",
      "[-0.01376557 -0.08618677 -0.04571982 -0.03320555  0.02278307  0.02543149\n",
      "  0.03751966  0.04267823  0.05374373  0.06480949  0.09603868  0.09314505\n",
      "  0.08548939  0.0887328   0.09197575  0.09522922  0.10128097  0.10640556]\n",
      "[-0.01376557 -0.08618677 -0.04571982  0.02976967  0.07717483  0.10139717\n",
      "  0.11784652  0.11819533  0.14190773  0.1968065   0.21868975  0.25685622\n",
      "  0.14378916  0.20877671  0.18939979  0.24078465  0.21256075  0.27610385]\n"
     ]
    }
   ],
   "source": [
    "print bin_ctr\n",
    "print c2_1\n",
    "print c2_2"
   ]
  },
  {
   "cell_type": "code",
   "execution_count": null,
   "metadata": {
    "collapsed": true
   },
   "outputs": [],
   "source": []
  }
 ],
 "metadata": {
  "kernelspec": {
   "display_name": "Python 2",
   "language": "python",
   "name": "python2"
  },
  "language_info": {
   "codemirror_mode": {
    "name": "ipython",
    "version": 2
   },
   "file_extension": ".py",
   "mimetype": "text/x-python",
   "name": "python",
   "nbconvert_exporter": "python",
   "pygments_lexer": "ipython2",
   "version": "2.7.13"
  }
 },
 "nbformat": 4,
 "nbformat_minor": 2
}
